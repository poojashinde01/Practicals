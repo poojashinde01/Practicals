{
  "nbformat": 4,
  "nbformat_minor": 0,
  "metadata": {
    "colab": {
      "provenance": []
    },
    "kernelspec": {
      "name": "python3",
      "display_name": "Python 3"
    },
    "language_info": {
      "name": "python"
    }
  },
  "cells": [
    {
      "cell_type": "code",
      "execution_count": 2,
      "metadata": {
        "colab": {
          "base_uri": "https://localhost:8080/"
        },
        "id": "8OPscbSQoKog",
        "outputId": "41fa2163-931e-4b36-f8cc-9b4b3ab6ce33"
      },
      "outputs": [
        {
          "output_type": "stream",
          "name": "stderr",
          "text": [
            "[nltk_data] Downloading package punkt to /root/nltk_data...\n",
            "[nltk_data]   Unzipping tokenizers/punkt.zip.\n"
          ]
        },
        {
          "output_type": "stream",
          "name": "stdout",
          "text": [
            "word tokenize :\n",
            " ['my', 'name', 'is', 'pooja', ',', 'hello', 'and', 'welcome', 'in', 'nlp']\n",
            "\n",
            "sentence tokenization \n",
            " ['my name is pooja ,hello and welcome in nlp']\n"
          ]
        }
      ],
      "source": [
        "#1.Write a program to implement sentence segmentation and word tokenization\n",
        "import nltk\n",
        "nltk.download('punkt')\n",
        "from nltk.tokenize import sent_tokenize,word_tokenize\n",
        "\n",
        "sent='my name is pooja ,hello and welcome in nlp'\n",
        "word=word_tokenize(sent)\n",
        "print('word tokenize :\\n',word)\n",
        "\n",
        "print()\n",
        "sent=sent_tokenize(sent)\n",
        "print('sentence tokenization \\n',sent)\n"
      ]
    },
    {
      "cell_type": "code",
      "source": [
        "# 2\tWrite a program to Implement stemming and lemmatization\n",
        "\n",
        "import nltk\n",
        "from nltk.stem import PorterStemmer,WordNetLemmatizer\n",
        "\n",
        "nltk.download('punkt')\n",
        "nltk.download('wordnet')\n",
        "\n",
        "text = \"Natural language processing is the ability of a computer program to understand human language as it is spoken and written.\"\n",
        "\n",
        "print('original word')\n",
        "token=nltk.word_tokenize(text)\n",
        "print(token)\n",
        "print()\n",
        "\n",
        "stemmer=PorterStemmer()\n",
        "lem=WordNetLemmatizer()\n",
        "print()\n",
        "print('stemming word')\n",
        "stem=[stemmer.stem(word) for word in token ]\n",
        "print(stem)\n",
        "\n",
        "print()\n",
        "print('lemmatization word')\n",
        "lem=[lem.lemmatize(word) for word in token]\n",
        "print(lem)\n",
        "\n",
        "\n"
      ],
      "metadata": {
        "colab": {
          "base_uri": "https://localhost:8080/"
        },
        "id": "Ew68qvI1rGlK",
        "outputId": "09dbe7cb-d99e-4b37-fced-2d92e9ae956f"
      },
      "execution_count": 22,
      "outputs": [
        {
          "output_type": "stream",
          "name": "stdout",
          "text": [
            "original word\n",
            "['Natural', 'language', 'processing', 'is', 'the', 'ability', 'of', 'a', 'computer', 'program', 'to', 'understand', 'human', 'language', 'as', 'it', 'is', 'spoken', 'and', 'written', '.']\n",
            "\n",
            "\n",
            "stemming word\n",
            "['natur', 'languag', 'process', 'is', 'the', 'abil', 'of', 'a', 'comput', 'program', 'to', 'understand', 'human', 'languag', 'as', 'it', 'is', 'spoken', 'and', 'written', '.']\n",
            "\n",
            "lemmatization word\n",
            "['Natural', 'language', 'processing', 'is', 'the', 'ability', 'of', 'a', 'computer', 'program', 'to', 'understand', 'human', 'language', 'a', 'it', 'is', 'spoken', 'and', 'written', '.']\n"
          ]
        },
        {
          "output_type": "stream",
          "name": "stderr",
          "text": [
            "[nltk_data] Downloading package punkt to /root/nltk_data...\n",
            "[nltk_data]   Package punkt is already up-to-date!\n",
            "[nltk_data] Downloading package wordnet to /root/nltk_data...\n",
            "[nltk_data]   Package wordnet is already up-to-date!\n"
          ]
        }
      ]
    },
    {
      "cell_type": "code",
      "source": [
        "# 3 Write a program to Implement a tri-gram model\n",
        "from nltk.util import ngrams\n",
        "\n",
        "n = 3\n",
        "\n",
        "sentence = \"The Natural Language Toolkit, more commonly known as NLTK, is a suite of libraries and programs for symbolic and statistical natural language processing for English written in the Python programming language.\"\n",
        "\n",
        "# Generate unigrams\n",
        "unigrams = ngrams(sentence.split(), n)\n",
        "\n",
        "# Print unigrams\n",
        "for item in unigrams:\n",
        "    print(item)\n",
        "\n"
      ],
      "metadata": {
        "colab": {
          "base_uri": "https://localhost:8080/"
        },
        "id": "n1y4t8N3tAtT",
        "outputId": "1eab5b1f-4b04-4e1d-bb9c-0eb62b3b26a3"
      },
      "execution_count": 28,
      "outputs": [
        {
          "output_type": "stream",
          "name": "stdout",
          "text": [
            "('The', 'Natural', 'Language')\n",
            "('Natural', 'Language', 'Toolkit,')\n",
            "('Language', 'Toolkit,', 'more')\n",
            "('Toolkit,', 'more', 'commonly')\n",
            "('more', 'commonly', 'known')\n",
            "('commonly', 'known', 'as')\n",
            "('known', 'as', 'NLTK,')\n",
            "('as', 'NLTK,', 'is')\n",
            "('NLTK,', 'is', 'a')\n",
            "('is', 'a', 'suite')\n",
            "('a', 'suite', 'of')\n",
            "('suite', 'of', 'libraries')\n",
            "('of', 'libraries', 'and')\n",
            "('libraries', 'and', 'programs')\n",
            "('and', 'programs', 'for')\n",
            "('programs', 'for', 'symbolic')\n",
            "('for', 'symbolic', 'and')\n",
            "('symbolic', 'and', 'statistical')\n",
            "('and', 'statistical', 'natural')\n",
            "('statistical', 'natural', 'language')\n",
            "('natural', 'language', 'processing')\n",
            "('language', 'processing', 'for')\n",
            "('processing', 'for', 'English')\n",
            "('for', 'English', 'written')\n",
            "('English', 'written', 'in')\n",
            "('written', 'in', 'the')\n",
            "('in', 'the', 'Python')\n",
            "('the', 'Python', 'programming')\n",
            "('Python', 'programming', 'language.')\n"
          ]
        }
      ]
    },
    {
      "cell_type": "code",
      "source": [
        "#4 Write a program to implement POS Tagging using HMM and Neural Models.\n",
        "\n",
        "import nltk\n",
        "from nltk import tokenize, tag, chunk\n",
        "\n",
        "# Download necessary NLTK data files\n",
        "nltk.download('punkt')\n",
        "nltk.download('averaged_perceptron_tagger')\n",
        "nltk.download('maxent_ne_chunker')\n",
        "nltk.download('words')\n",
        "\n",
        "# Sample paragraph\n",
        "para = \"Hello! My name is Beena Kapadia. Today you'll be learning NLTK.\"\n",
        "\n",
        "# Sentence tokenization\n",
        "sents = tokenize.sent_tokenize(para)\n",
        "print(\"\\nSentence Tokenization\\n===================\\n\", sents)\n",
        "\n",
        "# Word tokenization\n",
        "print(\"\\nWord Tokenization\\n===================\\n\")\n",
        "for sentence in sents:\n",
        "    words = tokenize.word_tokenize(sentence)\n",
        "    print(words)\n",
        "\n",
        "# POS Tagging\n",
        "print(\"\\nPOS Tagging\\n===========\\n\")\n",
        "tagged_words = []\n",
        "for sentence in sents:\n",
        "    words = tokenize.word_tokenize(sentence)\n",
        "    tagged_words.append(tag.pos_tag(words))\n",
        "print(tagged_words)\n",
        "\n",
        "# Chunking\n",
        "print(\"\\nChunking\\n========\\n\")\n",
        "trees = []\n",
        "for tagged_sentence in tagged_words:\n",
        "    trees.append(chunk.ne_chunk(tagged_sentence))\n",
        "for tree in trees:\n",
        "    print(tree)\n"
      ],
      "metadata": {
        "colab": {
          "base_uri": "https://localhost:8080/"
        },
        "id": "deBOfm7JzY3G",
        "outputId": "3220bb5d-2ebf-4b99-9c3e-22dcf040c05e"
      },
      "execution_count": 29,
      "outputs": [
        {
          "output_type": "stream",
          "name": "stderr",
          "text": [
            "[nltk_data] Downloading package punkt to /root/nltk_data...\n",
            "[nltk_data]   Package punkt is already up-to-date!\n",
            "[nltk_data] Downloading package averaged_perceptron_tagger to\n",
            "[nltk_data]     /root/nltk_data...\n",
            "[nltk_data]   Unzipping taggers/averaged_perceptron_tagger.zip.\n",
            "[nltk_data] Downloading package maxent_ne_chunker to\n",
            "[nltk_data]     /root/nltk_data...\n",
            "[nltk_data]   Unzipping chunkers/maxent_ne_chunker.zip.\n",
            "[nltk_data] Downloading package words to /root/nltk_data...\n",
            "[nltk_data]   Unzipping corpora/words.zip.\n"
          ]
        },
        {
          "output_type": "stream",
          "name": "stdout",
          "text": [
            "\n",
            "Sentence Tokenization\n",
            "===================\n",
            " ['Hello!', 'My name is Beena Kapadia.', \"Today you'll be learning NLTK.\"]\n",
            "\n",
            "Word Tokenization\n",
            "===================\n",
            "\n",
            "['Hello', '!']\n",
            "['My', 'name', 'is', 'Beena', 'Kapadia', '.']\n",
            "['Today', 'you', \"'ll\", 'be', 'learning', 'NLTK', '.']\n",
            "\n",
            "POS Tagging\n",
            "===========\n",
            "\n",
            "[[('Hello', 'NN'), ('!', '.')], [('My', 'PRP$'), ('name', 'NN'), ('is', 'VBZ'), ('Beena', 'NNP'), ('Kapadia', 'NNP'), ('.', '.')], [('Today', 'NN'), ('you', 'PRP'), (\"'ll\", 'MD'), ('be', 'VB'), ('learning', 'VBG'), ('NLTK', 'NNP'), ('.', '.')]]\n",
            "\n",
            "Chunking\n",
            "========\n",
            "\n",
            "(S (GPE Hello/NN) !/.)\n",
            "(S My/PRP$ name/NN is/VBZ (PERSON Beena/NNP Kapadia/NNP) ./.)\n",
            "(S\n",
            "  Today/NN\n",
            "  you/PRP\n",
            "  'll/MD\n",
            "  be/VB\n",
            "  learning/VBG\n",
            "  (ORGANIZATION NLTK/NNP)\n",
            "  ./.)\n"
          ]
        }
      ]
    },
    {
      "cell_type": "code",
      "source": [
        "!pip install pydot graphviz"
      ],
      "metadata": {
        "colab": {
          "base_uri": "https://localhost:8080/"
        },
        "id": "WSQYcurH3LRU",
        "outputId": "726e807b-d1dd-4b36-a4f0-e415ea47b119"
      },
      "execution_count": 32,
      "outputs": [
        {
          "output_type": "stream",
          "name": "stdout",
          "text": [
            "Requirement already satisfied: pydot in /usr/local/lib/python3.10/dist-packages (1.4.2)\n",
            "Requirement already satisfied: graphviz in /usr/local/lib/python3.10/dist-packages (0.20.3)\n",
            "Requirement already satisfied: pyparsing>=2.1.4 in /usr/local/lib/python3.10/dist-packages (from pydot) (3.1.2)\n"
          ]
        }
      ]
    },
    {
      "cell_type": "code",
      "source": [
        "#5\tWrite a program to Implement syntactic parsing of a given text\n",
        "import nltk\n",
        "from nltk import tokenize\n",
        "from nltk.tree import Tree\n",
        "import pydot\n",
        "from IPython.display import Image, display\n",
        "\n",
        "def tree_to_dot(tree):\n",
        "    \"\"\"\n",
        "    Convert NLTK Tree to DOT format for visualization with Graphviz.\n",
        "    \"\"\"\n",
        "    def add_edges(node, graph):\n",
        "        if isinstance(node, Tree):\n",
        "            for child in node:\n",
        "                if isinstance(child, Tree):\n",
        "                    graph.add_edge(pydot.Edge(str(node), str(child)))\n",
        "                    add_edges(child, graph)\n",
        "                else:\n",
        "                    graph.add_edge(pydot.Edge(str(node), child))\n",
        "        else:\n",
        "            graph.add_edge(pydot.Edge(str(node), node))\n",
        "\n",
        "    graph = pydot.Dot(graph_type='digraph')\n",
        "    add_edges(tree, graph)\n",
        "    return graph.to_string()\n",
        "\n",
        "# Define a context-free grammar (CFG)\n",
        "grammar1 = nltk.CFG.fromstring(\"\"\"\n",
        "    S -> VP NP\n",
        "    VP -> 'Book'\n",
        "    NP -> Det Noun\n",
        "    Det -> 'that'\n",
        "    Noun -> 'flight'\n",
        "\"\"\")\n",
        "\n",
        "# Sentence to parse\n",
        "sentence = \"Book that flight\"\n",
        "\n",
        "# Tokenize the sentence\n",
        "all_tokens = tokenize.word_tokenize(sentence)\n",
        "print(\"Tokens:\", all_tokens)\n",
        "\n",
        "# Create a parser with the given grammar\n",
        "parser = nltk.ChartParser(grammar1)\n",
        "\n",
        "# Parse the sentence and save the parse tree as a DOT file and convert to PNG\n",
        "for i, tree in enumerate(parser.parse(all_tokens)):\n",
        "    print(tree)\n",
        "    dot_str = tree_to_dot(tree)\n",
        "    dot_file = f'tree_{i}.dot'\n",
        "\n",
        "    # Save DOT file\n",
        "    with open(dot_file, 'w') as f:\n",
        "        f.write(dot_str)\n",
        "\n",
        "    # Convert DOT file to PNG using Graphviz\n",
        "    (graph,) = pydot.graph_from_dot_file(dot_file)\n",
        "    png_file = f'tree_{i}.png'\n",
        "    graph.write_png(png_file)\n",
        "    print(f\"Parse tree saved as {png_file}\")\n",
        "\n",
        "    # Display the PNG file if using Jupyter Notebook\n",
        "    display(Image(filename=png_file))\n"
      ],
      "metadata": {
        "colab": {
          "base_uri": "https://localhost:8080/",
          "height": 416
        },
        "id": "It_4YQXI1nVH",
        "outputId": "8dc1325f-54fe-4cd1-c9df-581412f5d57f"
      },
      "execution_count": 37,
      "outputs": [
        {
          "output_type": "stream",
          "name": "stdout",
          "text": [
            "Tokens: ['Book', 'that', 'flight']\n",
            "(S (VP Book) (NP (Det that) (Noun flight)))\n",
            "Parse tree saved as tree_0.png\n"
          ]
        },
        {
          "output_type": "display_data",
          "data": {
            "image/png": "[encoded data removed]",
            "text/plain": [
              "<IPython.core.display.Image object>"
            ]
          },
          "metadata": {}
        }
      ]
    },
    {
      "cell_type": "code",
      "source": [
        "# 6 Write a program to Implement dependency parsing of a given text\n",
        "\n",
        "import spacy\n",
        "from spacy import displacy\n",
        "\n",
        "# Load the pre-trained spaCy model\n",
        "nlp = spacy.load(\"en_core_web_sm\")\n",
        "\n",
        "# Define a test sentence\n",
        "sentence = \"John saw the man in the park.\"\n",
        "\n",
        "# Parse the sentence\n",
        "doc = nlp(sentence)\n",
        "\n",
        "# Display the syntactic structure\n",
        "print(f\"{'Token':10} {'Dependency':10} {'Head':10} {'Head POS':10} {'Children'}\")\n",
        "print(\"-\" * 50)\n",
        "for token in doc:\n",
        "    print(f\"{token.text:10} {token.dep_:10} {token.head.text:10} {token.head.pos_:10} {[child.text for child in token.children]}\")\n",
        "\n",
        "# Visualize the parse tree using displacy\n",
        "displacy.serve(doc, style=\"dep\")\n"
      ],
      "metadata": {
        "colab": {
          "base_uri": "https://localhost:8080/",
          "height": 741
        },
        "id": "5SHnUmCjDrEY",
        "outputId": "3940b5e9-9d6e-488b-bf6c-d283c253e2ba"
      },
      "execution_count": null,
      "outputs": [
        {
          "output_type": "stream",
          "name": "stdout",
          "text": [
            "Token      Dependency Head       Head POS   Children\n",
            "--------------------------------------------------\n",
            "John       nsubj      saw        VERB       []\n",
            "saw        ROOT       saw        VERB       ['John', 'man', '.']\n",
            "the        det        man        NOUN       []\n",
            "man        dobj       saw        VERB       ['the', 'in']\n",
            "in         prep       man        NOUN       ['park']\n",
            "the        det        park       NOUN       []\n",
            "park       pobj       in         ADP        ['the']\n",
            ".          punct      saw        VERB       []\n"
          ]
        },
        {
          "output_type": "stream",
          "name": "stderr",
          "text": [
            "/usr/local/lib/python3.10/dist-packages/spacy/displacy/__init__.py:106: UserWarning: [W011] It looks like you're calling displacy.serve from within a Jupyter notebook or a similar environment. This likely means you're already running a local web server, so there's no need to make displaCy start another one. Instead, you should be able to replace displacy.serve with displacy.render to show the visualization.\n",
            "  warnings.warn(Warnings.W011)\n"
          ]
        },
        {
          "output_type": "display_data",
          "data": {
            "text/plain": [
              "<IPython.core.display.HTML object>"
            ],
            "text/html": [
              "<span class=\"tex2jax_ignore\"><!DOCTYPE html>\n",
              "<html lang=\"en\">\n",
              "    <head>\n",
              "        <title>displaCy</title>\n",
              "    </head>\n",
              "\n",
              "    <body style=\"font-size: 16px; font-family: -apple-system, BlinkMacSystemFont, 'Segoe UI', Helvetica, Arial, sans-serif, 'Apple Color Emoji', 'Segoe UI Emoji', 'Segoe UI Symbol'; padding: 4rem 2rem; direction: ltr\">\n",
              "<figure style=\"margin-bottom: 6rem\">\n",
              "<svg xmlns=\"http://www.w3.org/2000/svg\" xmlns:xlink=\"http://www.w3.org/1999/xlink\" xml:lang=\"en\" id=\"8938d5a3caf54a899848295abe8e71f7-0\" class=\"displacy\" width=\"1275\" height=\"312.0\" direction=\"ltr\" style=\"max-width: none; height: 312.0px; color: #000000; background: #ffffff; font-family: Arial; direction: ltr\">\n",
              "<text class=\"displacy-token\" fill=\"currentColor\" text-anchor=\"middle\" y=\"222.0\">\n",
              "    <tspan class=\"displacy-word\" fill=\"currentColor\" x=\"50\">John</tspan>\n",
              "    <tspan class=\"displacy-tag\" dy=\"2em\" fill=\"currentColor\" x=\"50\">PROPN</tspan>\n",
              "</text>\n",
              "\n",
              "<text class=\"displacy-token\" fill=\"currentColor\" text-anchor=\"middle\" y=\"222.0\">\n",
              "    <tspan class=\"displacy-word\" fill=\"currentColor\" x=\"225\">saw</tspan>\n",
              "    <tspan class=\"displacy-tag\" dy=\"2em\" fill=\"currentColor\" x=\"225\">VERB</tspan>\n",
              "</text>\n",
              "\n",
              "<text class=\"displacy-token\" fill=\"currentColor\" text-anchor=\"middle\" y=\"222.0\">\n",
              "    <tspan class=\"displacy-word\" fill=\"currentColor\" x=\"400\">the</tspan>\n",
              "    <tspan class=\"displacy-tag\" dy=\"2em\" fill=\"currentColor\" x=\"400\">DET</tspan>\n",
              "</text>\n",
              "\n",
              "<text class=\"displacy-token\" fill=\"currentColor\" text-anchor=\"middle\" y=\"222.0\">\n",
              "    <tspan class=\"displacy-word\" fill=\"currentColor\" x=\"575\">man</tspan>\n",
              "    <tspan class=\"displacy-tag\" dy=\"2em\" fill=\"currentColor\" x=\"575\">NOUN</tspan>\n",
              "</text>\n",
              "\n",
              "<text class=\"displacy-token\" fill=\"currentColor\" text-anchor=\"middle\" y=\"222.0\">\n",
              "    <tspan class=\"displacy-word\" fill=\"currentColor\" x=\"750\">in</tspan>\n",
              "    <tspan class=\"displacy-tag\" dy=\"2em\" fill=\"currentColor\" x=\"750\">ADP</tspan>\n",
              "</text>\n",
              "\n",
              "<text class=\"displacy-token\" fill=\"currentColor\" text-anchor=\"middle\" y=\"222.0\">\n",
              "    <tspan class=\"displacy-word\" fill=\"currentColor\" x=\"925\">the</tspan>\n",
              "    <tspan class=\"displacy-tag\" dy=\"2em\" fill=\"currentColor\" x=\"925\">DET</tspan>\n",
              "</text>\n",
              "\n",
              "<text class=\"displacy-token\" fill=\"currentColor\" text-anchor=\"middle\" y=\"222.0\">\n",
              "    <tspan class=\"displacy-word\" fill=\"currentColor\" x=\"1100\">park.</tspan>\n",
              "    <tspan class=\"displacy-tag\" dy=\"2em\" fill=\"currentColor\" x=\"1100\">NOUN</tspan>\n",
              "</text>\n",
              "\n",
              "<g class=\"displacy-arrow\">\n",
              "    <path class=\"displacy-arc\" id=\"arrow-8938d5a3caf54a899848295abe8e71f7-0-0\" stroke-width=\"2px\" d=\"M70,177.0 C70,89.5 220.0,89.5 220.0,177.0\" fill=\"none\" stroke=\"currentColor\"/>\n",
              "    <text dy=\"1.25em\" style=\"font-size: 0.8em; letter-spacing: 1px\">\n",
              "        <textPath xlink:href=\"#arrow-8938d5a3caf54a899848295abe8e71f7-0-0\" class=\"displacy-label\" startOffset=\"50%\" side=\"left\" fill=\"currentColor\" text-anchor=\"middle\">nsubj</textPath>\n",
              "    </text>\n",
              "    <path class=\"displacy-arrowhead\" d=\"M70,179.0 L62,167.0 78,167.0\" fill=\"currentColor\"/>\n",
              "</g>\n",
              "\n",
              "<g class=\"displacy-arrow\">\n",
              "    <path class=\"displacy-arc\" id=\"arrow-8938d5a3caf54a899848295abe8e71f7-0-1\" stroke-width=\"2px\" d=\"M420,177.0 C420,89.5 570.0,89.5 570.0,177.0\" fill=\"none\" stroke=\"currentColor\"/>\n",
              "    <text dy=\"1.25em\" style=\"font-size: 0.8em; letter-spacing: 1px\">\n",
              "        <textPath xlink:href=\"#arrow-8938d5a3caf54a899848295abe8e71f7-0-1\" class=\"displacy-label\" startOffset=\"50%\" side=\"left\" fill=\"currentColor\" text-anchor=\"middle\">det</textPath>\n",
              "    </text>\n",
              "    <path class=\"displacy-arrowhead\" d=\"M420,179.0 L412,167.0 428,167.0\" fill=\"currentColor\"/>\n",
              "</g>\n",
              "\n",
              "<g class=\"displacy-arrow\">\n",
              "    <path class=\"displacy-arc\" id=\"arrow-8938d5a3caf54a899848295abe8e71f7-0-2\" stroke-width=\"2px\" d=\"M245,177.0 C245,2.0 575.0,2.0 575.0,177.0\" fill=\"none\" stroke=\"currentColor\"/>\n",
              "    <text dy=\"1.25em\" style=\"font-size: 0.8em; letter-spacing: 1px\">\n",
              "        <textPath xlink:href=\"#arrow-8938d5a3caf54a899848295abe8e71f7-0-2\" class=\"displacy-label\" startOffset=\"50%\" side=\"left\" fill=\"currentColor\" text-anchor=\"middle\">dobj</textPath>\n",
              "    </text>\n",
              "    <path class=\"displacy-arrowhead\" d=\"M575.0,179.0 L583.0,167.0 567.0,167.0\" fill=\"currentColor\"/>\n",
              "</g>\n",
              "\n",
              "<g class=\"displacy-arrow\">\n",
              "    <path class=\"displacy-arc\" id=\"arrow-8938d5a3caf54a899848295abe8e71f7-0-3\" stroke-width=\"2px\" d=\"M595,177.0 C595,89.5 745.0,89.5 745.0,177.0\" fill=\"none\" stroke=\"currentColor\"/>\n",
              "    <text dy=\"1.25em\" style=\"font-size: 0.8em; letter-spacing: 1px\">\n",
              "        <textPath xlink:href=\"#arrow-8938d5a3caf54a899848295abe8e71f7-0-3\" class=\"displacy-label\" startOffset=\"50%\" side=\"left\" fill=\"currentColor\" text-anchor=\"middle\">prep</textPath>\n",
              "    </text>\n",
              "    <path class=\"displacy-arrowhead\" d=\"M745.0,179.0 L753.0,167.0 737.0,167.0\" fill=\"currentColor\"/>\n",
              "</g>\n",
              "\n",
              "<g class=\"displacy-arrow\">\n",
              "    <path class=\"displacy-arc\" id=\"arrow-8938d5a3caf54a899848295abe8e71f7-0-4\" stroke-width=\"2px\" d=\"M945,177.0 C945,89.5 1095.0,89.5 1095.0,177.0\" fill=\"none\" stroke=\"currentColor\"/>\n",
              "    <text dy=\"1.25em\" style=\"font-size: 0.8em; letter-spacing: 1px\">\n",
              "        <textPath xlink:href=\"#arrow-8938d5a3caf54a899848295abe8e71f7-0-4\" class=\"displacy-label\" startOffset=\"50%\" side=\"left\" fill=\"currentColor\" text-anchor=\"middle\">det</textPath>\n",
              "    </text>\n",
              "    <path class=\"displacy-arrowhead\" d=\"M945,179.0 L937,167.0 953,167.0\" fill=\"currentColor\"/>\n",
              "</g>\n",
              "\n",
              "<g class=\"displacy-arrow\">\n",
              "    <path class=\"displacy-arc\" id=\"arrow-8938d5a3caf54a899848295abe8e71f7-0-5\" stroke-width=\"2px\" d=\"M770,177.0 C770,2.0 1100.0,2.0 1100.0,177.0\" fill=\"none\" stroke=\"currentColor\"/>\n",
              "    <text dy=\"1.25em\" style=\"font-size: 0.8em; letter-spacing: 1px\">\n",
              "        <textPath xlink:href=\"#arrow-8938d5a3caf54a899848295abe8e71f7-0-5\" class=\"displacy-label\" startOffset=\"50%\" side=\"left\" fill=\"currentColor\" text-anchor=\"middle\">pobj</textPath>\n",
              "    </text>\n",
              "    <path class=\"displacy-arrowhead\" d=\"M1100.0,179.0 L1108.0,167.0 1092.0,167.0\" fill=\"currentColor\"/>\n",
              "</g>\n",
              "</svg>\n",
              "</figure>\n",
              "</body>\n",
              "</html></span>"
            ]
          },
          "metadata": {}
        },
        {
          "output_type": "stream",
          "name": "stdout",
          "text": [
            "\n",
            "Using the 'dep' visualizer\n",
            "Serving on http://0.0.0.0:5000 ...\n",
            "\n"
          ]
        }
      ]
    },
    {
      "cell_type": "code",
      "source": [
        "# 6\n",
        "import nltk\n",
        "from nltk import tokenize\n",
        "import pydot\n",
        "from nltk.tree import Tree\n",
        "\n",
        "# Define a context-free grammar (CFG)\n",
        "grammar1 = nltk.CFG.fromstring(\"\"\"\n",
        "    S -> VP NP\n",
        "    VP -> 'Book'\n",
        "    VP -> VP NP\n",
        "    NP -> Det Noun\n",
        "    NP -> 'flight'\n",
        "    Det -> 'that'\n",
        "    Noun -> 'flight'\n",
        "\"\"\")\n",
        "\n",
        "# Sentence to parse\n",
        "sentence = \"Book that flight\"\n",
        "\n",
        "# Tokenize the sentence into words\n",
        "all_tokens = tokenize.word_tokenize(sentence)\n",
        "print(\"Tokens:\", all_tokens)\n",
        "\n",
        "# Create a parser with the given grammar\n",
        "parser = nltk.ChartParser(grammar1)\n",
        "\n",
        "def tree_to_dot(tree):\n",
        "    \"\"\"\n",
        "    Convert an NLTK Tree to DOT format for visualization with Graphviz.\n",
        "    \"\"\"\n",
        "    graph = pydot.Dot(graph_type='digraph')\n",
        "\n",
        "    def add_edges(node, graph):\n",
        "        if isinstance(node, Tree):\n",
        "            for child in node:\n",
        "                if isinstance(child, Tree):\n",
        "                    graph.add_edge(pydot.Edge(str(node), str(child)))\n",
        "                    add_edges(child, graph)\n",
        "                else:\n",
        "                    graph.add_edge(pydot.Edge(str(node), child))\n",
        "        else:\n",
        "            graph.add_edge(pydot.Edge(str(node), node))\n",
        "\n",
        "    add_edges(tree, graph)\n",
        "    return graph\n",
        "\n",
        "# Parse the sentence and save the parse tree as a DOT file and convert to PNG\n",
        "for i, tree in enumerate(parser.parse(all_tokens)):\n",
        "    print(tree)\n",
        "\n",
        "    # Convert tree to DOT format and save\n",
        "    dot_graph = tree_to_dot(tree)\n",
        "    dot_file = f'tree_{i}.dot'\n",
        "    dot_graph.write_dot(dot_file)\n",
        "\n",
        "    # Optionally convert DOT file to PNG using Graphviz\n",
        "    png_file = f'tree_{i}.png'\n",
        "    (graph,) = pydot.graph_from_dot_file(dot_file)\n",
        "    graph.write_png(png_file)\n",
        "\n",
        "    print(f\"Parse tree saved as {png_file}\")\n"
      ],
      "metadata": {
        "colab": {
          "base_uri": "https://localhost:8080/"
        },
        "id": "Bsg1-O3_4G-I",
        "outputId": "c06c49e7-4ddc-4778-df7b-ed3d710be229"
      },
      "execution_count": 41,
      "outputs": [
        {
          "output_type": "stream",
          "name": "stdout",
          "text": [
            "Tokens: ['Book', 'that', 'flight']\n",
            "(S (VP Book) (NP (Det that) (Noun flight)))\n",
            "Parse tree saved as tree_0.png\n"
          ]
        }
      ]
    },
    {
      "cell_type": "code",
      "source": [
        "# 7 Write a program to Implement Named Entity Recognition (NER)\n",
        "import spacy\n",
        "\n",
        "# Load the pre-trained English model\n",
        "nlp = spacy.load(\"en_core_web_sm\")\n",
        "\n",
        "# Define a sample text\n",
        "text = (\"Apple Inc. is planning to open a new office in San Francisco on October 12, 2024. \"\n",
        "        \"Tim Cook will be present at the opening ceremony.\")\n",
        "\n",
        "# Process the text with the spaCy model\n",
        "doc = nlp(text)\n",
        "\n",
        "# Print named entities, their labels, and start/end positions in the text\n",
        "print(\"Named Entities, Phrases, and Categories:\")\n",
        "print(\"-\" * 40)\n",
        "for ent in doc.ents:\n",
        "    print(f\"Entity: {ent.text}\\tLabel: {ent.label_}\\tStart: {ent.start_char}\\tEnd: {ent.end_char}\")\n"
      ],
      "metadata": {
        "colab": {
          "base_uri": "https://localhost:8080/"
        },
        "id": "7EeEjSpx5H1h",
        "outputId": "b13882f9-c3d2-4d0b-fd50-037fb647922c"
      },
      "execution_count": 12,
      "outputs": [
        {
          "output_type": "stream",
          "name": "stdout",
          "text": [
            "Named Entities, Phrases, and Categories:\n",
            "----------------------------------------\n",
            "Entity: Apple Inc.\tLabel: ORG\tStart: 0\tEnd: 10\n",
            "Entity: San Francisco\tLabel: GPE\tStart: 47\tEnd: 60\n",
            "Entity: October 12, 2024\tLabel: DATE\tStart: 64\tEnd: 80\n",
            "Entity: Tim Cook\tLabel: PERSON\tStart: 82\tEnd: 90\n"
          ]
        }
      ]
    },
    {
      "cell_type": "code",
      "source": [
        "# 8 Write a program to implement text Summarization.\n",
        "import nltk\n",
        "from nltk.corpus import stopwords\n",
        "from nltk.tokenize import sent_tokenize, word_tokenize\n",
        "from collections import defaultdict\n",
        "import re\n",
        "\n",
        "nltk.download('stopwords')\n",
        "# Sample text\n",
        "text = \"\"\"\n",
        "Apple Inc. is planning to open a new office in San Francisco on October 12, 2024.\n",
        "Tim Cook will be present at the opening ceremony.\n",
        "Apple is known for its innovative technology and design.\n",
        "The new office is expected to create many jobs in the area.\n",
        "San Francisco is a major tech hub with many companies in the field.\n",
        "\"\"\"\n",
        "\n",
        "# Preprocess the text\n",
        "def preprocess_text(text):\n",
        "    text = text.lower()\n",
        "    text = re.sub(r'\\s+', ' ', text)  # Remove extra spaces\n",
        "    text = re.sub(r'\\W', ' ', text)  # Remove non-word characters\n",
        "    text = re.sub(r'\\d+', ' ', text)  # Remove numbers\n",
        "    return text\n",
        "\n",
        "# Tokenize the text into sentences\n",
        "sentences = sent_tokenize(text)\n",
        "preprocessed_text = preprocess_text(text)\n",
        "words = word_tokenize(preprocessed_text)\n",
        "stop_words = set(stopwords.words('english'))\n",
        "\n",
        "# Create a frequency distribution of words\n",
        "word_frequencies = defaultdict(int)\n",
        "for word in words:\n",
        "    if word not in stop_words:\n",
        "        word_frequencies[word] += 1\n",
        "\n",
        "# Calculate sentence scores\n",
        "sentence_scores = defaultdict(int)\n",
        "for sentence in sentences:\n",
        "    sentence_word_count = len(word_tokenize(sentence))\n",
        "    for word in word_tokenize(sentence.lower()):\n",
        "        if word in word_frequencies:\n",
        "            sentence_scores[sentence] += word_frequencies[word]\n",
        "\n",
        "# Calculate the average score\n",
        "average_score = sum(sentence_scores.values()) / len(sentence_scores)\n",
        "\n",
        "# Create summary based on sentence scores\n",
        "summary = \"\"\n",
        "for sentence in sentences:\n",
        "    if sentence in sentence_scores and sentence_scores[sentence] > (1.2 * average_score):\n",
        "        summary += \" \" + sentence\n",
        "\n",
        "# Print the summary\n",
        "print(summary.strip())\n",
        "\n"
      ],
      "metadata": {
        "colab": {
          "base_uri": "https://localhost:8080/"
        },
        "id": "w-ONlHOl_XxM",
        "outputId": "72c008de-b2eb-45c5-fd60-6560a895b0c9"
      },
      "execution_count": 14,
      "outputs": [
        {
          "output_type": "stream",
          "name": "stdout",
          "text": [
            "Apple Inc. is planning to open a new office in San Francisco on October 12, 2024. San Francisco is a major tech hub with many companies in the field.\n"
          ]
        },
        {
          "output_type": "stream",
          "name": "stderr",
          "text": [
            "[nltk_data] Downloading package stopwords to /root/nltk_data...\n",
            "[nltk_data]   Unzipping corpora/stopwords.zip.\n"
          ]
        }
      ]
    },
    {
      "cell_type": "code",
      "source": [],
      "metadata": {
        "id": "l9L6RL5qCafr"
      },
      "execution_count": null,
      "outputs": []
    }
  ]
}